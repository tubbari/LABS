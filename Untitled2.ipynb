{
 "cells": [
  {
   "cell_type": "code",
   "execution_count": 30,
   "id": "297c37de-bb4f-4639-b788-f5336194dee6",
   "metadata": {},
   "outputs": [],
   "source": [
    "import sqlite3"
   ]
  },
  {
   "cell_type": "code",
   "execution_count": 31,
   "id": "18729751-fb7c-4448-b75d-9851f03e4e26",
   "metadata": {},
   "outputs": [],
   "source": [
    "class DatabaseHandler:\n",
    "    def __init__(self, db_name):\n",
    "        self.conn = sqlite3.connect(db_name)\n",
    "        self.cursor = self.conn.cursor()\n",
    "        self.create_tables()\n",
    "\n",
    "    def create_tables(self):\n",
    "        self.cursor.execute(\"\"\"\n",
    "            CREATE TABLE IF NOT EXISTS BLOCKS (\n",
    "                block_id INTEGER PRIMARY KEY AUTOINCREMENT,\n",
    "                data TEXT NOT NULL,\n",
    "                timestamp DATETIME DEFAULT CURRENT_TIMESTAMP\n",
    "            )\n",
    "        \"\"\")\n",
    "        self.cursor.execute(\"\"\"\n",
    "            CREATE TABLE IF NOT EXISTS PERSON (\n",
    "                person_id INTEGER PRIMARY KEY AUTOINCREMENT,\n",
    "                name TEXT NOT NULL,\n",
    "                birth_year INTEGER,\n",
    "                ip_addr TEXT\n",
    "            )\n",
    "        \"\"\")\n",
    "        self.cursor.execute(\"\"\"\n",
    "            CREATE TABLE IF NOT EXISTS VOTES (\n",
    "                vote_id INTEGER PRIMARY KEY AUTOINCREMENT,\n",
    "                block_id INTEGER NOT NULL,\n",
    "                person_id INTEGER NOT NULL,\n",
    "                vote_data TEXT NOT NULL,\n",
    "                timestamp DATETIME DEFAULT CURRENT_TIMESTAMP,\n",
    "                FOREIGN KEY (block_id) REFERENCES BLOCKS(block_id),\n",
    "                FOREIGN KEY (person_id) REFERENCES PERSON(person_id)\n",
    "            )\n",
    "        \"\"\")\n",
    "        self.conn.commit()\n",
    "\n",
    "    def insert_block(self, data):\n",
    "        self.cursor.execute(\"INSERT INTO BLOCKS (data) VALUES (?)\", (data,))\n",
    "        self.conn.commit()\n",
    "        return self.cursor.lastrowid\n",
    "\n",
    "    def get_all_blocks(self):\n",
    "        self.cursor.execute(\"SELECT * FROM BLOCKS\")\n",
    "        return self.cursor.fetchall()\n",
    "\n",
    "    def insert_person(self, name, birth_year, ip_addr):\n",
    "        self.cursor.execute(\"INSERT INTO PERSON (name, birth_year, ip_addr) VALUES (?, ?, ?)\", (name, birth_year, ip_addr))\n",
    "        self.conn.commit()\n",
    "        return self.cursor.lastrowid\n",
    "\n",
    "    def get_person_by_id(self, person_id):\n",
    "        self.cursor.execute(\"SELECT * FROM PERSON WHERE person_id=?\", (person_id,))\n",
    "        return self.cursor.fetchone()\n",
    "\n",
    "    def insert_vote(self, block_id, person_id, vote_data):\n",
    "        self.cursor.execute(\"INSERT INTO VOTES (block_id, person_id, vote_data) VALUES (?, ?, ?)\", (block_id, person_id, vote_data))\n",
    "        self.conn.commit()\n",
    "        return self.cursor.lastrowid\n",
    "\n",
    "    def get_votes_by_block(self, block_id):\n",
    "        self.cursor.execute(\"SELECT * FROM VOTES WHERE block_id=?\", (block_id,))\n",
    "        return self.cursor.fetchall()\n",
    "\n",
    "    def get_votes_by_person(self, person_id):\n",
    "        self.cursor.execute(\"SELECT * FROM VOTES WHERE person_id=?\", (person_id,))\n",
    "        return self.cursor.fetchall()\n",
    "\n",
    "    def close_connection(self):\n",
    "        self.conn.close()"
   ]
  },
  {
   "cell_type": "code",
   "execution_count": 32,
   "id": "932ff878-ab0a-4f8b-afd4-b282ee4cbd92",
   "metadata": {},
   "outputs": [
    {
     "name": "stdout",
     "output_type": "stream",
     "text": [
      "Таблиці BLOCKS, PERSON та VOTES створено (якщо вони не існували).\n"
     ]
    }
   ],
   "source": [
    "db_handler = DatabaseHandler('blockchain.db')\n",
    "print(\"Таблиці BLOCKS, PERSON та VOTES створено (якщо вони не існували).\")"
   ]
  },
  {
   "cell_type": "code",
   "execution_count": 33,
   "id": "4755cffd-de29-4fac-9a17-04424d46bf7b",
   "metadata": {},
   "outputs": [
    {
     "name": "stdout",
     "output_type": "stream",
     "text": [
      "Додано блок з ID: 4\n"
     ]
    }
   ],
   "source": [
    "block_id1 = db_handler.insert_block(\"Дані першого блоку\")\n",
    "print(f\"Додано блок з ID: {block_id1}\")"
   ]
  },
  {
   "cell_type": "code",
   "execution_count": 34,
   "id": "001678f0-b361-4cee-aabb-d85ab9d09ee5",
   "metadata": {},
   "outputs": [
    {
     "name": "stdout",
     "output_type": "stream",
     "text": [
      "Усі блоки: [(1, 'Дані першого блоку', '2025-05-06 12:18:15'), (2, 'Дані першого блоку', '2025-05-06 12:23:11'), (3, 'Дані першого блоку', '2025-05-06 12:23:21'), (4, 'Дані першого блоку', '2025-05-06 12:23:31')]\n"
     ]
    }
   ],
   "source": [
    "blocks = db_handler.get_all_blocks()\n",
    "print(\"Усі блоки:\", blocks)"
   ]
  },
  {
   "cell_type": "code",
   "execution_count": 35,
   "id": "532f4af6-5946-4e12-aea8-5533fc47cc46",
   "metadata": {},
   "outputs": [
    {
     "name": "stdout",
     "output_type": "stream",
     "text": [
      "Додано особу з ID: 4\n"
     ]
    }
   ],
   "source": [
    "person_id1 = db_handler.insert_person(\"Іван Петренко\", 1990, \"192.168.1.100\")\n",
    "print(f\"Додано особу з ID: {person_id1}\")"
   ]
  },
  {
   "cell_type": "code",
   "execution_count": 36,
   "id": "0e7c0853-8914-4265-b746-f149785bba39",
   "metadata": {},
   "outputs": [
    {
     "name": "stdout",
     "output_type": "stream",
     "text": [
      "Отримана особа: (4, 'Іван Петренко', 1990, '192.168.1.100')\n"
     ]
    }
   ],
   "source": [
    "person1 = db_handler.get_person_by_id(person_id1)\n",
    "print(\"Отримана особа:\", person1)"
   ]
  },
  {
   "cell_type": "code",
   "execution_count": 37,
   "id": "0828e311-f57d-412f-809f-87352711c6b9",
   "metadata": {},
   "outputs": [
    {
     "name": "stdout",
     "output_type": "stream",
     "text": [
      "Додано голос з ID: 4 від особи 4 до блоку 4\n"
     ]
    }
   ],
   "source": [
    "vote_id1 = db_handler.insert_vote(block_id1, person_id1, \"За кандидата А\")\n",
    "print(f\"Додано голос з ID: {vote_id1} від особи {person_id1} до блоку {block_id1}\")"
   ]
  },
  {
   "cell_type": "code",
   "execution_count": 38,
   "id": "15dbc9dd-4d3c-4d38-b73d-d25390d9ff69",
   "metadata": {},
   "outputs": [
    {
     "name": "stdout",
     "output_type": "stream",
     "text": [
      "Голоси в блоці 4: [(4, 4, 4, 'За кандидата А', '2025-05-06 12:23:32')]\n"
     ]
    }
   ],
   "source": [
    "votes_in_block1 = db_handler.get_votes_by_block(block_id1)\n",
    "print(f\"Голоси в блоці {block_id1}:\", votes_in_block1)"
   ]
  },
  {
   "cell_type": "code",
   "execution_count": 39,
   "id": "86453f4a-3e24-42a6-9f39-f72173ee47b2",
   "metadata": {},
   "outputs": [
    {
     "name": "stdout",
     "output_type": "stream",
     "text": [
      "Голоси від особи 4: [(4, 4, 4, 'За кандидата А', '2025-05-06 12:23:32')]\n"
     ]
    }
   ],
   "source": [
    "votes_by_person1 = db_handler.get_votes_by_person(person_id1)\n",
    "print(f\"Голоси від особи {person_id1}:\", votes_by_person1)"
   ]
  },
  {
   "cell_type": "code",
   "execution_count": 40,
   "id": "d5e78cce-0937-407e-9dcb-641a084b2ebb",
   "metadata": {},
   "outputs": [
    {
     "name": "stdout",
     "output_type": "stream",
     "text": [
      "З'єднання з базою даних закрито.\n"
     ]
    }
   ],
   "source": [
    "# Закриття з'єднання з базою даних\n",
    "db_handler.close_connection()\n",
    "print(\"З'єднання з базою даних закрито.\")"
   ]
  },
  {
   "cell_type": "code",
   "execution_count": null,
   "id": "8e31dce8-ac55-4705-b30f-0631b9a3faf7",
   "metadata": {},
   "outputs": [],
   "source": []
  }
 ],
 "metadata": {
  "kernelspec": {
   "display_name": "Python 3 (ipykernel)",
   "language": "python",
   "name": "python3"
  },
  "language_info": {
   "codemirror_mode": {
    "name": "ipython",
    "version": 3
   },
   "file_extension": ".py",
   "mimetype": "text/x-python",
   "name": "python",
   "nbconvert_exporter": "python",
   "pygments_lexer": "ipython3",
   "version": "3.11.5"
  }
 },
 "nbformat": 4,
 "nbformat_minor": 5
}
